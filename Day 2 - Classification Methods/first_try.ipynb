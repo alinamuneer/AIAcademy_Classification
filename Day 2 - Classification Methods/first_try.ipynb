{
 "cells": [
  {
   "cell_type": "code",
   "execution_count": 5,
   "metadata": {},
   "outputs": [],
   "source": [
    "import pandas as pd\n",
    "import numpy as np\n",
    "import matplotlib.pyplot as plt\n",
    "import seaborn as sns\n",
    "import sklearn\n",
    "\n",
    "# read the data\n",
    "df = pd.read_csv('telecom_sample.csv')"
   ]
  },
  {
   "cell_type": "code",
   "execution_count": 5,
   "metadata": {},
   "outputs": [
    {
     "data": {
      "text/html": [
       "<div>\n",
       "<style scoped>\n",
       "    .dataframe tbody tr th:only-of-type {\n",
       "        vertical-align: middle;\n",
       "    }\n",
       "\n",
       "    .dataframe tbody tr th {\n",
       "        vertical-align: top;\n",
       "    }\n",
       "\n",
       "    .dataframe thead th {\n",
       "        text-align: right;\n",
       "    }\n",
       "</style>\n",
       "<table border=\"1\" class=\"dataframe\">\n",
       "  <thead>\n",
       "    <tr style=\"text-align: right;\">\n",
       "      <th></th>\n",
       "      <th>CustomerID</th>\n",
       "      <th>Gender</th>\n",
       "      <th>Age</th>\n",
       "      <th>Tenure</th>\n",
       "      <th>MonthlyCharges</th>\n",
       "      <th>TotalCharges</th>\n",
       "      <th>Contract</th>\n",
       "      <th>Churn</th>\n",
       "    </tr>\n",
       "  </thead>\n",
       "  <tbody>\n",
       "    <tr>\n",
       "      <th>0</th>\n",
       "      <td>1</td>\n",
       "      <td>Male</td>\n",
       "      <td>44</td>\n",
       "      <td>47</td>\n",
       "      <td>24.62</td>\n",
       "      <td>6491.62</td>\n",
       "      <td>One year</td>\n",
       "      <td>Yes</td>\n",
       "    </tr>\n",
       "    <tr>\n",
       "      <th>1</th>\n",
       "      <td>2</td>\n",
       "      <td>Male</td>\n",
       "      <td>27</td>\n",
       "      <td>30</td>\n",
       "      <td>54.59</td>\n",
       "      <td>4188.75</td>\n",
       "      <td>Month-to-month</td>\n",
       "      <td>No</td>\n",
       "    </tr>\n",
       "    <tr>\n",
       "      <th>2</th>\n",
       "      <td>3</td>\n",
       "      <td>Male</td>\n",
       "      <td>63</td>\n",
       "      <td>49</td>\n",
       "      <td>23.61</td>\n",
       "      <td>5571.60</td>\n",
       "      <td>Month-to-month</td>\n",
       "      <td>Yes</td>\n",
       "    </tr>\n",
       "    <tr>\n",
       "      <th>3</th>\n",
       "      <td>4</td>\n",
       "      <td>Male</td>\n",
       "      <td>28</td>\n",
       "      <td>53</td>\n",
       "      <td>26.53</td>\n",
       "      <td>7109.31</td>\n",
       "      <td>Two year</td>\n",
       "      <td>Yes</td>\n",
       "    </tr>\n",
       "    <tr>\n",
       "      <th>4</th>\n",
       "      <td>5</td>\n",
       "      <td>Female</td>\n",
       "      <td>35</td>\n",
       "      <td>64</td>\n",
       "      <td>102.86</td>\n",
       "      <td>5648.67</td>\n",
       "      <td>Month-to-month</td>\n",
       "      <td>Yes</td>\n",
       "    </tr>\n",
       "  </tbody>\n",
       "</table>\n",
       "</div>"
      ],
      "text/plain": [
       "   CustomerID  Gender  Age  Tenure  MonthlyCharges  TotalCharges  \\\n",
       "0           1    Male   44      47           24.62       6491.62   \n",
       "1           2    Male   27      30           54.59       4188.75   \n",
       "2           3    Male   63      49           23.61       5571.60   \n",
       "3           4    Male   28      53           26.53       7109.31   \n",
       "4           5  Female   35      64          102.86       5648.67   \n",
       "\n",
       "         Contract Churn  \n",
       "0        One year   Yes  \n",
       "1  Month-to-month    No  \n",
       "2  Month-to-month   Yes  \n",
       "3        Two year   Yes  \n",
       "4  Month-to-month   Yes  "
      ]
     },
     "execution_count": 5,
     "metadata": {},
     "output_type": "execute_result"
    }
   ],
   "source": [
    "df.head()"
   ]
  },
  {
   "cell_type": "code",
   "execution_count": 6,
   "metadata": {},
   "outputs": [
    {
     "data": {
      "text/plain": [
       "(1000, 8)"
      ]
     },
     "execution_count": 6,
     "metadata": {},
     "output_type": "execute_result"
    }
   ],
   "source": [
    "df.shape"
   ]
  },
  {
   "cell_type": "code",
   "execution_count": 7,
   "metadata": {},
   "outputs": [
    {
     "name": "stdout",
     "output_type": "stream",
     "text": [
      "<class 'pandas.core.frame.DataFrame'>\n",
      "RangeIndex: 1000 entries, 0 to 999\n",
      "Data columns (total 8 columns):\n",
      " #   Column          Non-Null Count  Dtype  \n",
      "---  ------          --------------  -----  \n",
      " 0   CustomerID      1000 non-null   int64  \n",
      " 1   Gender          1000 non-null   object \n",
      " 2   Age             1000 non-null   int64  \n",
      " 3   Tenure          1000 non-null   int64  \n",
      " 4   MonthlyCharges  1000 non-null   float64\n",
      " 5   TotalCharges    1000 non-null   float64\n",
      " 6   Contract        1000 non-null   object \n",
      " 7   Churn           1000 non-null   object \n",
      "dtypes: float64(2), int64(3), object(3)\n",
      "memory usage: 62.6+ KB\n"
     ]
    }
   ],
   "source": [
    "df.info()"
   ]
  },
  {
   "cell_type": "code",
   "execution_count": 6,
   "metadata": {},
   "outputs": [
    {
     "data": {
      "text/html": [
       "<div>\n",
       "<style scoped>\n",
       "    .dataframe tbody tr th:only-of-type {\n",
       "        vertical-align: middle;\n",
       "    }\n",
       "\n",
       "    .dataframe tbody tr th {\n",
       "        vertical-align: top;\n",
       "    }\n",
       "\n",
       "    .dataframe thead th {\n",
       "        text-align: right;\n",
       "    }\n",
       "</style>\n",
       "<table border=\"1\" class=\"dataframe\">\n",
       "  <thead>\n",
       "    <tr style=\"text-align: right;\">\n",
       "      <th></th>\n",
       "      <th>CustomerID</th>\n",
       "      <th>Gender</th>\n",
       "      <th>Age</th>\n",
       "      <th>Tenure</th>\n",
       "      <th>MonthlyCharges</th>\n",
       "      <th>TotalCharges</th>\n",
       "      <th>Contract</th>\n",
       "      <th>Churn</th>\n",
       "    </tr>\n",
       "  </thead>\n",
       "  <tbody>\n",
       "    <tr>\n",
       "      <th>count</th>\n",
       "      <td>1000.000000</td>\n",
       "      <td>1000</td>\n",
       "      <td>1000.000000</td>\n",
       "      <td>1000.000000</td>\n",
       "      <td>1000.000000</td>\n",
       "      <td>1000.000000</td>\n",
       "      <td>1000</td>\n",
       "      <td>1000</td>\n",
       "    </tr>\n",
       "    <tr>\n",
       "      <th>unique</th>\n",
       "      <td>NaN</td>\n",
       "      <td>2</td>\n",
       "      <td>NaN</td>\n",
       "      <td>NaN</td>\n",
       "      <td>NaN</td>\n",
       "      <td>NaN</td>\n",
       "      <td>3</td>\n",
       "      <td>2</td>\n",
       "    </tr>\n",
       "    <tr>\n",
       "      <th>top</th>\n",
       "      <td>NaN</td>\n",
       "      <td>Female</td>\n",
       "      <td>NaN</td>\n",
       "      <td>NaN</td>\n",
       "      <td>NaN</td>\n",
       "      <td>NaN</td>\n",
       "      <td>One year</td>\n",
       "      <td>No</td>\n",
       "    </tr>\n",
       "    <tr>\n",
       "      <th>freq</th>\n",
       "      <td>NaN</td>\n",
       "      <td>512</td>\n",
       "      <td>NaN</td>\n",
       "      <td>NaN</td>\n",
       "      <td>NaN</td>\n",
       "      <td>NaN</td>\n",
       "      <td>339</td>\n",
       "      <td>513</td>\n",
       "    </tr>\n",
       "    <tr>\n",
       "      <th>mean</th>\n",
       "      <td>500.500000</td>\n",
       "      <td>NaN</td>\n",
       "      <td>44.389000</td>\n",
       "      <td>36.177000</td>\n",
       "      <td>69.964070</td>\n",
       "      <td>4008.533290</td>\n",
       "      <td>NaN</td>\n",
       "      <td>NaN</td>\n",
       "    </tr>\n",
       "    <tr>\n",
       "      <th>std</th>\n",
       "      <td>288.819436</td>\n",
       "      <td>NaN</td>\n",
       "      <td>15.147644</td>\n",
       "      <td>20.879646</td>\n",
       "      <td>29.060833</td>\n",
       "      <td>2247.583387</td>\n",
       "      <td>NaN</td>\n",
       "      <td>NaN</td>\n",
       "    </tr>\n",
       "    <tr>\n",
       "      <th>min</th>\n",
       "      <td>1.000000</td>\n",
       "      <td>NaN</td>\n",
       "      <td>18.000000</td>\n",
       "      <td>1.000000</td>\n",
       "      <td>20.190000</td>\n",
       "      <td>110.990000</td>\n",
       "      <td>NaN</td>\n",
       "      <td>NaN</td>\n",
       "    </tr>\n",
       "    <tr>\n",
       "      <th>25%</th>\n",
       "      <td>250.750000</td>\n",
       "      <td>NaN</td>\n",
       "      <td>31.000000</td>\n",
       "      <td>18.000000</td>\n",
       "      <td>44.477500</td>\n",
       "      <td>2122.635000</td>\n",
       "      <td>NaN</td>\n",
       "      <td>NaN</td>\n",
       "    </tr>\n",
       "    <tr>\n",
       "      <th>50%</th>\n",
       "      <td>500.500000</td>\n",
       "      <td>NaN</td>\n",
       "      <td>45.000000</td>\n",
       "      <td>36.000000</td>\n",
       "      <td>71.995000</td>\n",
       "      <td>3870.870000</td>\n",
       "      <td>NaN</td>\n",
       "      <td>NaN</td>\n",
       "    </tr>\n",
       "    <tr>\n",
       "      <th>75%</th>\n",
       "      <td>750.250000</td>\n",
       "      <td>NaN</td>\n",
       "      <td>57.000000</td>\n",
       "      <td>55.000000</td>\n",
       "      <td>95.972500</td>\n",
       "      <td>5934.237500</td>\n",
       "      <td>NaN</td>\n",
       "      <td>NaN</td>\n",
       "    </tr>\n",
       "    <tr>\n",
       "      <th>max</th>\n",
       "      <td>1000.000000</td>\n",
       "      <td>NaN</td>\n",
       "      <td>70.000000</td>\n",
       "      <td>72.000000</td>\n",
       "      <td>119.820000</td>\n",
       "      <td>7986.780000</td>\n",
       "      <td>NaN</td>\n",
       "      <td>NaN</td>\n",
       "    </tr>\n",
       "  </tbody>\n",
       "</table>\n",
       "</div>"
      ],
      "text/plain": [
       "         CustomerID  Gender          Age       Tenure  MonthlyCharges  \\\n",
       "count   1000.000000    1000  1000.000000  1000.000000     1000.000000   \n",
       "unique          NaN       2          NaN          NaN             NaN   \n",
       "top             NaN  Female          NaN          NaN             NaN   \n",
       "freq            NaN     512          NaN          NaN             NaN   \n",
       "mean     500.500000     NaN    44.389000    36.177000       69.964070   \n",
       "std      288.819436     NaN    15.147644    20.879646       29.060833   \n",
       "min        1.000000     NaN    18.000000     1.000000       20.190000   \n",
       "25%      250.750000     NaN    31.000000    18.000000       44.477500   \n",
       "50%      500.500000     NaN    45.000000    36.000000       71.995000   \n",
       "75%      750.250000     NaN    57.000000    55.000000       95.972500   \n",
       "max     1000.000000     NaN    70.000000    72.000000      119.820000   \n",
       "\n",
       "        TotalCharges  Contract Churn  \n",
       "count    1000.000000      1000  1000  \n",
       "unique           NaN         3     2  \n",
       "top              NaN  One year    No  \n",
       "freq             NaN       339   513  \n",
       "mean     4008.533290       NaN   NaN  \n",
       "std      2247.583387       NaN   NaN  \n",
       "min       110.990000       NaN   NaN  \n",
       "25%      2122.635000       NaN   NaN  \n",
       "50%      3870.870000       NaN   NaN  \n",
       "75%      5934.237500       NaN   NaN  \n",
       "max      7986.780000       NaN   NaN  "
      ]
     },
     "execution_count": 6,
     "metadata": {},
     "output_type": "execute_result"
    }
   ],
   "source": [
    "df.describe(include='all')"
   ]
  },
  {
   "cell_type": "code",
   "execution_count": 7,
   "metadata": {},
   "outputs": [
    {
     "data": {
      "text/plain": [
       "CustomerID        0\n",
       "Gender            0\n",
       "Age               0\n",
       "Tenure            0\n",
       "MonthlyCharges    0\n",
       "TotalCharges      0\n",
       "Contract          0\n",
       "Churn             0\n",
       "dtype: int64"
      ]
     },
     "execution_count": 7,
     "metadata": {},
     "output_type": "execute_result"
    }
   ],
   "source": [
    "df.isnull().sum()"
   ]
  },
  {
   "cell_type": "code",
   "execution_count": 8,
   "metadata": {},
   "outputs": [
    {
     "data": {
      "text/plain": [
       "0"
      ]
     },
     "execution_count": 8,
     "metadata": {},
     "output_type": "execute_result"
    }
   ],
   "source": [
    "df.duplicated().sum()"
   ]
  },
  {
   "cell_type": "code",
   "execution_count": 9,
   "metadata": {},
   "outputs": [
    {
     "data": {
      "text/html": [
       "<div>\n",
       "<style scoped>\n",
       "    .dataframe tbody tr th:only-of-type {\n",
       "        vertical-align: middle;\n",
       "    }\n",
       "\n",
       "    .dataframe tbody tr th {\n",
       "        vertical-align: top;\n",
       "    }\n",
       "\n",
       "    .dataframe thead th {\n",
       "        text-align: right;\n",
       "    }\n",
       "</style>\n",
       "<table border=\"1\" class=\"dataframe\">\n",
       "  <thead>\n",
       "    <tr style=\"text-align: right;\">\n",
       "      <th></th>\n",
       "      <th>Gender_Female</th>\n",
       "      <th>Gender_Male</th>\n",
       "    </tr>\n",
       "  </thead>\n",
       "  <tbody>\n",
       "    <tr>\n",
       "      <th>0</th>\n",
       "      <td>True</td>\n",
       "      <td>False</td>\n",
       "    </tr>\n",
       "    <tr>\n",
       "      <th>1</th>\n",
       "      <td>False</td>\n",
       "      <td>True</td>\n",
       "    </tr>\n",
       "    <tr>\n",
       "      <th>2</th>\n",
       "      <td>True</td>\n",
       "      <td>False</td>\n",
       "    </tr>\n",
       "    <tr>\n",
       "      <th>3</th>\n",
       "      <td>True</td>\n",
       "      <td>False</td>\n",
       "    </tr>\n",
       "    <tr>\n",
       "      <th>4</th>\n",
       "      <td>False</td>\n",
       "      <td>True</td>\n",
       "    </tr>\n",
       "  </tbody>\n",
       "</table>\n",
       "</div>"
      ],
      "text/plain": [
       "   Gender_Female  Gender_Male\n",
       "0           True        False\n",
       "1          False         True\n",
       "2           True        False\n",
       "3           True        False\n",
       "4          False         True"
      ]
     },
     "execution_count": 9,
     "metadata": {},
     "output_type": "execute_result"
    }
   ],
   "source": [
    "gender_dummies = pd.get_dummies(df.Gender, prefix='Gender')\n",
    "gender_dummies.head()"
   ]
  },
  {
   "cell_type": "code",
   "execution_count": 10,
   "metadata": {},
   "outputs": [
    {
     "data": {
      "text/html": [
       "<div>\n",
       "<style scoped>\n",
       "    .dataframe tbody tr th:only-of-type {\n",
       "        vertical-align: middle;\n",
       "    }\n",
       "\n",
       "    .dataframe tbody tr th {\n",
       "        vertical-align: top;\n",
       "    }\n",
       "\n",
       "    .dataframe thead th {\n",
       "        text-align: right;\n",
       "    }\n",
       "</style>\n",
       "<table border=\"1\" class=\"dataframe\">\n",
       "  <thead>\n",
       "    <tr style=\"text-align: right;\">\n",
       "      <th></th>\n",
       "      <th>CustomerID</th>\n",
       "      <th>Gender</th>\n",
       "      <th>Age</th>\n",
       "      <th>Tenure</th>\n",
       "      <th>MonthlyCharges</th>\n",
       "      <th>TotalCharges</th>\n",
       "      <th>Contract</th>\n",
       "      <th>Churn</th>\n",
       "      <th>Gender_Male</th>\n",
       "      <th>Gender_Female</th>\n",
       "    </tr>\n",
       "  </thead>\n",
       "  <tbody>\n",
       "    <tr>\n",
       "      <th>0</th>\n",
       "      <td>1</td>\n",
       "      <td>Female</td>\n",
       "      <td>55</td>\n",
       "      <td>2</td>\n",
       "      <td>111.22</td>\n",
       "      <td>6956.08</td>\n",
       "      <td>Month-to-month</td>\n",
       "      <td>No</td>\n",
       "      <td>False</td>\n",
       "      <td>True</td>\n",
       "    </tr>\n",
       "    <tr>\n",
       "      <th>1</th>\n",
       "      <td>2</td>\n",
       "      <td>Male</td>\n",
       "      <td>33</td>\n",
       "      <td>21</td>\n",
       "      <td>75.53</td>\n",
       "      <td>5692.23</td>\n",
       "      <td>Month-to-month</td>\n",
       "      <td>Yes</td>\n",
       "      <td>True</td>\n",
       "      <td>False</td>\n",
       "    </tr>\n",
       "    <tr>\n",
       "      <th>2</th>\n",
       "      <td>3</td>\n",
       "      <td>Female</td>\n",
       "      <td>30</td>\n",
       "      <td>51</td>\n",
       "      <td>94.74</td>\n",
       "      <td>4839.18</td>\n",
       "      <td>Month-to-month</td>\n",
       "      <td>No</td>\n",
       "      <td>False</td>\n",
       "      <td>True</td>\n",
       "    </tr>\n",
       "    <tr>\n",
       "      <th>3</th>\n",
       "      <td>4</td>\n",
       "      <td>Female</td>\n",
       "      <td>20</td>\n",
       "      <td>5</td>\n",
       "      <td>75.43</td>\n",
       "      <td>6706.95</td>\n",
       "      <td>Month-to-month</td>\n",
       "      <td>No</td>\n",
       "      <td>False</td>\n",
       "      <td>True</td>\n",
       "    </tr>\n",
       "    <tr>\n",
       "      <th>4</th>\n",
       "      <td>5</td>\n",
       "      <td>Male</td>\n",
       "      <td>53</td>\n",
       "      <td>47</td>\n",
       "      <td>70.88</td>\n",
       "      <td>3958.48</td>\n",
       "      <td>Month-to-month</td>\n",
       "      <td>Yes</td>\n",
       "      <td>True</td>\n",
       "      <td>False</td>\n",
       "    </tr>\n",
       "  </tbody>\n",
       "</table>\n",
       "</div>"
      ],
      "text/plain": [
       "   CustomerID  Gender  Age  Tenure  MonthlyCharges  TotalCharges  \\\n",
       "0           1  Female   55       2          111.22       6956.08   \n",
       "1           2    Male   33      21           75.53       5692.23   \n",
       "2           3  Female   30      51           94.74       4839.18   \n",
       "3           4  Female   20       5           75.43       6706.95   \n",
       "4           5    Male   53      47           70.88       3958.48   \n",
       "\n",
       "         Contract Churn  Gender_Male  Gender_Female  \n",
       "0  Month-to-month    No        False           True  \n",
       "1  Month-to-month   Yes         True          False  \n",
       "2  Month-to-month    No        False           True  \n",
       "3  Month-to-month    No        False           True  \n",
       "4  Month-to-month   Yes         True          False  "
      ]
     },
     "execution_count": 10,
     "metadata": {},
     "output_type": "execute_result"
    }
   ],
   "source": [
    "df['Gender_Male'] = gender_dummies.Gender_Male\n",
    "df['Gender_Female'] = gender_dummies.Gender_Female\n",
    "\n",
    "df.head()"
   ]
  },
  {
   "cell_type": "code",
   "execution_count": 11,
   "metadata": {},
   "outputs": [],
   "source": [
    "df['Churn'] = df['Churn'].map({'No': 0, 'Yes': 1})"
   ]
  },
  {
   "cell_type": "code",
   "execution_count": 12,
   "metadata": {},
   "outputs": [
    {
     "data": {
      "text/html": [
       "<div>\n",
       "<style scoped>\n",
       "    .dataframe tbody tr th:only-of-type {\n",
       "        vertical-align: middle;\n",
       "    }\n",
       "\n",
       "    .dataframe tbody tr th {\n",
       "        vertical-align: top;\n",
       "    }\n",
       "\n",
       "    .dataframe thead th {\n",
       "        text-align: right;\n",
       "    }\n",
       "</style>\n",
       "<table border=\"1\" class=\"dataframe\">\n",
       "  <thead>\n",
       "    <tr style=\"text-align: right;\">\n",
       "      <th></th>\n",
       "      <th>CustomerID</th>\n",
       "      <th>Gender</th>\n",
       "      <th>Age</th>\n",
       "      <th>Tenure</th>\n",
       "      <th>MonthlyCharges</th>\n",
       "      <th>TotalCharges</th>\n",
       "      <th>Contract</th>\n",
       "      <th>Churn</th>\n",
       "      <th>Gender_Male</th>\n",
       "      <th>Gender_Female</th>\n",
       "    </tr>\n",
       "  </thead>\n",
       "  <tbody>\n",
       "    <tr>\n",
       "      <th>0</th>\n",
       "      <td>1</td>\n",
       "      <td>Female</td>\n",
       "      <td>55</td>\n",
       "      <td>2</td>\n",
       "      <td>111.22</td>\n",
       "      <td>6956.08</td>\n",
       "      <td>Month-to-month</td>\n",
       "      <td>0</td>\n",
       "      <td>False</td>\n",
       "      <td>True</td>\n",
       "    </tr>\n",
       "    <tr>\n",
       "      <th>1</th>\n",
       "      <td>2</td>\n",
       "      <td>Male</td>\n",
       "      <td>33</td>\n",
       "      <td>21</td>\n",
       "      <td>75.53</td>\n",
       "      <td>5692.23</td>\n",
       "      <td>Month-to-month</td>\n",
       "      <td>1</td>\n",
       "      <td>True</td>\n",
       "      <td>False</td>\n",
       "    </tr>\n",
       "    <tr>\n",
       "      <th>2</th>\n",
       "      <td>3</td>\n",
       "      <td>Female</td>\n",
       "      <td>30</td>\n",
       "      <td>51</td>\n",
       "      <td>94.74</td>\n",
       "      <td>4839.18</td>\n",
       "      <td>Month-to-month</td>\n",
       "      <td>0</td>\n",
       "      <td>False</td>\n",
       "      <td>True</td>\n",
       "    </tr>\n",
       "    <tr>\n",
       "      <th>3</th>\n",
       "      <td>4</td>\n",
       "      <td>Female</td>\n",
       "      <td>20</td>\n",
       "      <td>5</td>\n",
       "      <td>75.43</td>\n",
       "      <td>6706.95</td>\n",
       "      <td>Month-to-month</td>\n",
       "      <td>0</td>\n",
       "      <td>False</td>\n",
       "      <td>True</td>\n",
       "    </tr>\n",
       "    <tr>\n",
       "      <th>4</th>\n",
       "      <td>5</td>\n",
       "      <td>Male</td>\n",
       "      <td>53</td>\n",
       "      <td>47</td>\n",
       "      <td>70.88</td>\n",
       "      <td>3958.48</td>\n",
       "      <td>Month-to-month</td>\n",
       "      <td>1</td>\n",
       "      <td>True</td>\n",
       "      <td>False</td>\n",
       "    </tr>\n",
       "  </tbody>\n",
       "</table>\n",
       "</div>"
      ],
      "text/plain": [
       "   CustomerID  Gender  Age  Tenure  MonthlyCharges  TotalCharges  \\\n",
       "0           1  Female   55       2          111.22       6956.08   \n",
       "1           2    Male   33      21           75.53       5692.23   \n",
       "2           3  Female   30      51           94.74       4839.18   \n",
       "3           4  Female   20       5           75.43       6706.95   \n",
       "4           5    Male   53      47           70.88       3958.48   \n",
       "\n",
       "         Contract  Churn  Gender_Male  Gender_Female  \n",
       "0  Month-to-month      0        False           True  \n",
       "1  Month-to-month      1         True          False  \n",
       "2  Month-to-month      0        False           True  \n",
       "3  Month-to-month      0        False           True  \n",
       "4  Month-to-month      1         True          False  "
      ]
     },
     "execution_count": 12,
     "metadata": {},
     "output_type": "execute_result"
    }
   ],
   "source": [
    "df.head()"
   ]
  },
  {
   "cell_type": "code",
   "execution_count": 13,
   "metadata": {},
   "outputs": [],
   "source": [
    "df['Contract'] = df.Contract.apply(lambda x: 'One_year' if x == 'One year' else x)\n",
    "df['Contract'] = df.Contract.apply(lambda x: 'Two_year' if x == 'Two year' else x)"
   ]
  },
  {
   "cell_type": "code",
   "execution_count": 16,
   "metadata": {},
   "outputs": [],
   "source": [
    "contract_dummies = pd.get_dummies(df.Contract, prefix='Contract')\n",
    "df = pd.concat([df, contract_dummies], axis=1)"
   ]
  },
  {
   "cell_type": "code",
   "execution_count": 17,
   "metadata": {},
   "outputs": [
    {
     "data": {
      "text/html": [
       "<div>\n",
       "<style scoped>\n",
       "    .dataframe tbody tr th:only-of-type {\n",
       "        vertical-align: middle;\n",
       "    }\n",
       "\n",
       "    .dataframe tbody tr th {\n",
       "        vertical-align: top;\n",
       "    }\n",
       "\n",
       "    .dataframe thead th {\n",
       "        text-align: right;\n",
       "    }\n",
       "</style>\n",
       "<table border=\"1\" class=\"dataframe\">\n",
       "  <thead>\n",
       "    <tr style=\"text-align: right;\">\n",
       "      <th></th>\n",
       "      <th>CustomerID</th>\n",
       "      <th>Gender</th>\n",
       "      <th>Age</th>\n",
       "      <th>Tenure</th>\n",
       "      <th>MonthlyCharges</th>\n",
       "      <th>TotalCharges</th>\n",
       "      <th>Contract</th>\n",
       "      <th>Churn</th>\n",
       "      <th>Gender_Male</th>\n",
       "      <th>Gender_Female</th>\n",
       "      <th>Contract_Month-to-month</th>\n",
       "      <th>Contract_One_year</th>\n",
       "      <th>Contract_Two_year</th>\n",
       "    </tr>\n",
       "  </thead>\n",
       "  <tbody>\n",
       "    <tr>\n",
       "      <th>0</th>\n",
       "      <td>1</td>\n",
       "      <td>Female</td>\n",
       "      <td>55</td>\n",
       "      <td>2</td>\n",
       "      <td>111.22</td>\n",
       "      <td>6956.08</td>\n",
       "      <td>Month-to-month</td>\n",
       "      <td>0</td>\n",
       "      <td>False</td>\n",
       "      <td>True</td>\n",
       "      <td>True</td>\n",
       "      <td>False</td>\n",
       "      <td>False</td>\n",
       "    </tr>\n",
       "    <tr>\n",
       "      <th>1</th>\n",
       "      <td>2</td>\n",
       "      <td>Male</td>\n",
       "      <td>33</td>\n",
       "      <td>21</td>\n",
       "      <td>75.53</td>\n",
       "      <td>5692.23</td>\n",
       "      <td>Month-to-month</td>\n",
       "      <td>1</td>\n",
       "      <td>True</td>\n",
       "      <td>False</td>\n",
       "      <td>True</td>\n",
       "      <td>False</td>\n",
       "      <td>False</td>\n",
       "    </tr>\n",
       "    <tr>\n",
       "      <th>2</th>\n",
       "      <td>3</td>\n",
       "      <td>Female</td>\n",
       "      <td>30</td>\n",
       "      <td>51</td>\n",
       "      <td>94.74</td>\n",
       "      <td>4839.18</td>\n",
       "      <td>Month-to-month</td>\n",
       "      <td>0</td>\n",
       "      <td>False</td>\n",
       "      <td>True</td>\n",
       "      <td>True</td>\n",
       "      <td>False</td>\n",
       "      <td>False</td>\n",
       "    </tr>\n",
       "    <tr>\n",
       "      <th>3</th>\n",
       "      <td>4</td>\n",
       "      <td>Female</td>\n",
       "      <td>20</td>\n",
       "      <td>5</td>\n",
       "      <td>75.43</td>\n",
       "      <td>6706.95</td>\n",
       "      <td>Month-to-month</td>\n",
       "      <td>0</td>\n",
       "      <td>False</td>\n",
       "      <td>True</td>\n",
       "      <td>True</td>\n",
       "      <td>False</td>\n",
       "      <td>False</td>\n",
       "    </tr>\n",
       "    <tr>\n",
       "      <th>4</th>\n",
       "      <td>5</td>\n",
       "      <td>Male</td>\n",
       "      <td>53</td>\n",
       "      <td>47</td>\n",
       "      <td>70.88</td>\n",
       "      <td>3958.48</td>\n",
       "      <td>Month-to-month</td>\n",
       "      <td>1</td>\n",
       "      <td>True</td>\n",
       "      <td>False</td>\n",
       "      <td>True</td>\n",
       "      <td>False</td>\n",
       "      <td>False</td>\n",
       "    </tr>\n",
       "  </tbody>\n",
       "</table>\n",
       "</div>"
      ],
      "text/plain": [
       "   CustomerID  Gender  Age  Tenure  MonthlyCharges  TotalCharges  \\\n",
       "0           1  Female   55       2          111.22       6956.08   \n",
       "1           2    Male   33      21           75.53       5692.23   \n",
       "2           3  Female   30      51           94.74       4839.18   \n",
       "3           4  Female   20       5           75.43       6706.95   \n",
       "4           5    Male   53      47           70.88       3958.48   \n",
       "\n",
       "         Contract  Churn  Gender_Male  Gender_Female  Contract_Month-to-month  \\\n",
       "0  Month-to-month      0        False           True                     True   \n",
       "1  Month-to-month      1         True          False                     True   \n",
       "2  Month-to-month      0        False           True                     True   \n",
       "3  Month-to-month      0        False           True                     True   \n",
       "4  Month-to-month      1         True          False                     True   \n",
       "\n",
       "   Contract_One_year  Contract_Two_year  \n",
       "0              False              False  \n",
       "1              False              False  \n",
       "2              False              False  \n",
       "3              False              False  \n",
       "4              False              False  "
      ]
     },
     "execution_count": 17,
     "metadata": {},
     "output_type": "execute_result"
    }
   ],
   "source": [
    "df.head()"
   ]
  },
  {
   "cell_type": "code",
   "execution_count": 27,
   "metadata": {},
   "outputs": [
    {
     "name": "stdout",
     "output_type": "stream",
     "text": [
      "<class 'pandas.core.frame.DataFrame'>\n",
      "RangeIndex: 1000 entries, 0 to 999\n",
      "Data columns (total 13 columns):\n",
      " #   Column                   Non-Null Count  Dtype  \n",
      "---  ------                   --------------  -----  \n",
      " 0   CustomerID               1000 non-null   int64  \n",
      " 1   Gender                   1000 non-null   object \n",
      " 2   Age                      1000 non-null   int64  \n",
      " 3   Tenure                   1000 non-null   int64  \n",
      " 4   MonthlyCharges           1000 non-null   float64\n",
      " 5   TotalCharges             1000 non-null   float64\n",
      " 6   Contract                 1000 non-null   object \n",
      " 7   Churn                    1000 non-null   int64  \n",
      " 8   Gender_Male              1000 non-null   bool   \n",
      " 9   Gender_Female            1000 non-null   bool   \n",
      " 10  Contract_Month-to-month  1000 non-null   bool   \n",
      " 11  Contract_One_year        1000 non-null   bool   \n",
      " 12  Contract_Two_year        1000 non-null   bool   \n",
      "dtypes: bool(5), float64(2), int64(4), object(2)\n",
      "memory usage: 67.5+ KB\n"
     ]
    }
   ],
   "source": [
    "df.info()"
   ]
  },
  {
   "cell_type": "code",
   "execution_count": 18,
   "metadata": {},
   "outputs": [
    {
     "data": {
      "text/plain": [
       "<matplotlib.collections.PathCollection at 0x1fc6fab9590>"
      ]
     },
     "execution_count": 18,
     "metadata": {},
     "output_type": "execute_result"
    },
    {
     "data": {
      "image/png": "[encoded data removed]",
      "text/plain": [
       "<Figure size 640x480 with 1 Axes>"
      ]
     },
     "metadata": {},
     "output_type": "display_data"
    }
   ],
   "source": [
    "plt.scatter(x=df.Tenure, y=df.Churn)"
   ]
  },
  {
   "cell_type": "code",
   "execution_count": 24,
   "metadata": {},
   "outputs": [
    {
     "name": "stderr",
     "output_type": "stream",
     "text": [
      "c:\\Users\\anna.maria.gorska\\AppData\\Local\\anaconda3\\Lib\\site-packages\\seaborn\\_oldcore.py:1119: FutureWarning: use_inf_as_na option is deprecated and will be removed in a future version. Convert inf values to NaN before operating instead.\n",
      "  with pd.option_context('mode.use_inf_as_na', True):\n",
      "c:\\Users\\anna.maria.gorska\\AppData\\Local\\anaconda3\\Lib\\site-packages\\seaborn\\_oldcore.py:1119: FutureWarning: use_inf_as_na option is deprecated and will be removed in a future version. Convert inf values to NaN before operating instead.\n",
      "  with pd.option_context('mode.use_inf_as_na', True):\n"
     ]
    },
    {
     "data": {
      "image/png": "[encoded data removed]",
      "text/plain": [
       "<Figure size 1400x600 with 2 Axes>"
      ]
     },
     "metadata": {},
     "output_type": "display_data"
    }
   ],
   "source": [
    "sns.set_style('whitegrid')\n",
    "\n",
    "# Create separate histograms for churned and not churned customers using Seaborn\n",
    "fig, (ax1, ax2) = plt.subplots(1, 2, figsize=(14, 6), sharey=True)\n",
    "\n",
    "sns.histplot(data=df[df['Churn'] == 0], x='Age', bins=40, color='blue', ax=ax1)\n",
    "ax1.set_title('MonthlyCharges Distribution for Not Churned')\n",
    "ax1.set_xlabel('TotalCharges')\n",
    "ax1.set_ylabel('Frequency')\n",
    "\n",
    "sns.histplot(data=df[df['Churn'] == 1], x='Age', bins=40, color='orange', ax=ax2)\n",
    "ax2.set_title('Age Distribution for Churned')\n",
    "ax2.set_xlabel('Age')\n",
    "\n",
    "plt.tight_layout()"
   ]
  },
  {
   "cell_type": "code",
   "execution_count": 37,
   "metadata": {},
   "outputs": [
    {
     "name": "stderr",
     "output_type": "stream",
     "text": [
      "c:\\Users\\anna.maria.gorska\\AppData\\Local\\anaconda3\\Lib\\site-packages\\seaborn\\_oldcore.py:1119: FutureWarning: use_inf_as_na option is deprecated and will be removed in a future version. Convert inf values to NaN before operating instead.\n",
      "  with pd.option_context('mode.use_inf_as_na', True):\n",
      "c:\\Users\\anna.maria.gorska\\AppData\\Local\\anaconda3\\Lib\\site-packages\\seaborn\\_oldcore.py:1119: FutureWarning: use_inf_as_na option is deprecated and will be removed in a future version. Convert inf values to NaN before operating instead.\n",
      "  with pd.option_context('mode.use_inf_as_na', True):\n"
     ]
    },
    {
     "data": {
      "image/png": "[encoded data removed]",
      "text/plain": [
       "<Figure size 1400x600 with 2 Axes>"
      ]
     },
     "metadata": {},
     "output_type": "display_data"
    }
   ],
   "source": [
    "sns.set_style('whitegrid')\n",
    "\n",
    "# Create separate histograms for churned and not churned customers using Seaborn\n",
    "fig, (ax1, ax2) = plt.subplots(1, 2, figsize=(14, 6), sharey=True)\n",
    "\n",
    "sns.histplot(data=df[df['Churn'] == 0], x='TotalCharges', bins=40, color='blue', ax=ax1)\n",
    "ax1.set_title('TotalCharges Distribution for Not Churned')\n",
    "ax1.set_xlabel('TotalCharges')\n",
    "ax1.set_ylabel('Frequency')\n",
    "\n",
    "sns.histplot(data=df[df['Churn'] == 1], x='MonthlyCharges', bins=40, color='orange', ax=ax2)\n",
    "ax2.set_title('MonthlyCharges Distribution for Churned')\n",
    "ax2.set_xlabel('MonthlyCharges')\n",
    "\n",
    "plt.tight_layout()"
   ]
  },
  {
   "cell_type": "code",
   "execution_count": 26,
   "metadata": {},
   "outputs": [
    {
     "data": {
      "text/plain": [
       "<matplotlib.collections.PathCollection at 0x1fc7094c290>"
      ]
     },
     "execution_count": 26,
     "metadata": {},
     "output_type": "execute_result"
    },
    {
     "data": {
      "image/png": "[encoded data removed]",
      "text/plain": [
       "<Figure size 640x480 with 1 Axes>"
      ]
     },
     "metadata": {},
     "output_type": "display_data"
    }
   ],
   "source": [
    "plt.scatter(y=df.Age, x=df.Churn)"
   ]
  },
  {
   "cell_type": "code",
   "execution_count": 28,
   "metadata": {},
   "outputs": [
    {
     "data": {
      "text/plain": [
       "Text(0.5, 1.0, 'Correlation Matrix')"
      ]
     },
     "execution_count": 28,
     "metadata": {},
     "output_type": "execute_result"
    },
    {
     "data": {
      "image/png": "[encoded data removed]",
      "text/plain": [
       "<Figure size 1200x800 with 2 Axes>"
      ]
     },
     "metadata": {},
     "output_type": "display_data"
    }
   ],
   "source": [
    "# Select columns for correlation matrix\n",
    "columns = ['Churn', 'Gender_Male', 'Gender_Female', 'Contract_Month-to-month', \n",
    "           'Contract_One_year', 'Contract_Two_year', 'Age', 'Tenure', \n",
    "           'MonthlyCharges', 'TotalCharges']\n",
    "\n",
    "# Compute the correlation matrix\n",
    "correlation_matrix = df[columns].corr()\n",
    "\n",
    "# Set up the matplotlib figure\n",
    "plt.figure(figsize=(12, 8))\n",
    "\n",
    "# Draw the heatmap with the mask and correct aspect ratio\n",
    "sns.heatmap(correlation_matrix, annot=True, cmap='coolwarm', fmt=\".2f\", linewidths=.5)\n",
    "plt.title('Correlation Matrix')"
   ]
  },
  {
   "cell_type": "code",
   "execution_count": 30,
   "metadata": {},
   "outputs": [
    {
     "data": {
      "text/html": [
       "<div>\n",
       "<style scoped>\n",
       "    .dataframe tbody tr th:only-of-type {\n",
       "        vertical-align: middle;\n",
       "    }\n",
       "\n",
       "    .dataframe tbody tr th {\n",
       "        vertical-align: top;\n",
       "    }\n",
       "\n",
       "    .dataframe thead th {\n",
       "        text-align: right;\n",
       "    }\n",
       "</style>\n",
       "<table border=\"1\" class=\"dataframe\">\n",
       "  <thead>\n",
       "    <tr style=\"text-align: right;\">\n",
       "      <th></th>\n",
       "      <th>CustomerID</th>\n",
       "      <th>Age</th>\n",
       "      <th>Tenure</th>\n",
       "      <th>MonthlyCharges</th>\n",
       "      <th>TotalCharges</th>\n",
       "      <th>Churn</th>\n",
       "      <th>Gender_Male</th>\n",
       "      <th>Gender_Female</th>\n",
       "      <th>Contract_Month-to-month</th>\n",
       "      <th>Contract_One_year</th>\n",
       "      <th>Contract_Two_year</th>\n",
       "    </tr>\n",
       "  </thead>\n",
       "  <tbody>\n",
       "    <tr>\n",
       "      <th>CustomerID</th>\n",
       "      <td>1.000000</td>\n",
       "      <td>-0.008477</td>\n",
       "      <td>0.042854</td>\n",
       "      <td>-0.070124</td>\n",
       "      <td>-0.034867</td>\n",
       "      <td>-0.012028</td>\n",
       "      <td>0.007041</td>\n",
       "      <td>-0.007041</td>\n",
       "      <td>-0.019832</td>\n",
       "      <td>-0.026546</td>\n",
       "      <td>0.046521</td>\n",
       "    </tr>\n",
       "    <tr>\n",
       "      <th>Age</th>\n",
       "      <td>-0.008477</td>\n",
       "      <td>1.000000</td>\n",
       "      <td>0.038315</td>\n",
       "      <td>0.000721</td>\n",
       "      <td>-0.024992</td>\n",
       "      <td>-0.010366</td>\n",
       "      <td>-0.013059</td>\n",
       "      <td>0.013059</td>\n",
       "      <td>0.027620</td>\n",
       "      <td>0.048156</td>\n",
       "      <td>-0.076042</td>\n",
       "    </tr>\n",
       "    <tr>\n",
       "      <th>Tenure</th>\n",
       "      <td>0.042854</td>\n",
       "      <td>0.038315</td>\n",
       "      <td>1.000000</td>\n",
       "      <td>0.019109</td>\n",
       "      <td>0.031735</td>\n",
       "      <td>-0.003566</td>\n",
       "      <td>-0.037422</td>\n",
       "      <td>0.037422</td>\n",
       "      <td>-0.023990</td>\n",
       "      <td>0.008604</td>\n",
       "      <td>0.015316</td>\n",
       "    </tr>\n",
       "    <tr>\n",
       "      <th>MonthlyCharges</th>\n",
       "      <td>-0.070124</td>\n",
       "      <td>0.000721</td>\n",
       "      <td>0.019109</td>\n",
       "      <td>1.000000</td>\n",
       "      <td>-0.003102</td>\n",
       "      <td>-0.013454</td>\n",
       "      <td>-0.017919</td>\n",
       "      <td>0.017919</td>\n",
       "      <td>-0.019481</td>\n",
       "      <td>0.002218</td>\n",
       "      <td>0.017236</td>\n",
       "    </tr>\n",
       "    <tr>\n",
       "      <th>TotalCharges</th>\n",
       "      <td>-0.034867</td>\n",
       "      <td>-0.024992</td>\n",
       "      <td>0.031735</td>\n",
       "      <td>-0.003102</td>\n",
       "      <td>1.000000</td>\n",
       "      <td>0.007935</td>\n",
       "      <td>0.026089</td>\n",
       "      <td>-0.026089</td>\n",
       "      <td>-0.006415</td>\n",
       "      <td>0.026793</td>\n",
       "      <td>-0.020542</td>\n",
       "    </tr>\n",
       "    <tr>\n",
       "      <th>Churn</th>\n",
       "      <td>-0.012028</td>\n",
       "      <td>-0.010366</td>\n",
       "      <td>-0.003566</td>\n",
       "      <td>-0.013454</td>\n",
       "      <td>0.007935</td>\n",
       "      <td>1.000000</td>\n",
       "      <td>-0.030643</td>\n",
       "      <td>0.030643</td>\n",
       "      <td>-0.015785</td>\n",
       "      <td>0.003833</td>\n",
       "      <td>0.011917</td>\n",
       "    </tr>\n",
       "    <tr>\n",
       "      <th>Gender_Male</th>\n",
       "      <td>0.007041</td>\n",
       "      <td>-0.013059</td>\n",
       "      <td>-0.037422</td>\n",
       "      <td>-0.017919</td>\n",
       "      <td>0.026089</td>\n",
       "      <td>-0.030643</td>\n",
       "      <td>1.000000</td>\n",
       "      <td>-1.000000</td>\n",
       "      <td>-0.008679</td>\n",
       "      <td>0.015079</td>\n",
       "      <td>-0.006496</td>\n",
       "    </tr>\n",
       "    <tr>\n",
       "      <th>Gender_Female</th>\n",
       "      <td>-0.007041</td>\n",
       "      <td>0.013059</td>\n",
       "      <td>0.037422</td>\n",
       "      <td>0.017919</td>\n",
       "      <td>-0.026089</td>\n",
       "      <td>0.030643</td>\n",
       "      <td>-1.000000</td>\n",
       "      <td>1.000000</td>\n",
       "      <td>0.008679</td>\n",
       "      <td>-0.015079</td>\n",
       "      <td>0.006496</td>\n",
       "    </tr>\n",
       "    <tr>\n",
       "      <th>Contract_Month-to-month</th>\n",
       "      <td>-0.019832</td>\n",
       "      <td>0.027620</td>\n",
       "      <td>-0.023990</td>\n",
       "      <td>-0.019481</td>\n",
       "      <td>-0.006415</td>\n",
       "      <td>-0.015785</td>\n",
       "      <td>-0.008679</td>\n",
       "      <td>0.008679</td>\n",
       "      <td>1.000000</td>\n",
       "      <td>-0.502596</td>\n",
       "      <td>-0.493652</td>\n",
       "    </tr>\n",
       "    <tr>\n",
       "      <th>Contract_One_year</th>\n",
       "      <td>-0.026546</td>\n",
       "      <td>0.048156</td>\n",
       "      <td>0.008604</td>\n",
       "      <td>0.002218</td>\n",
       "      <td>0.026793</td>\n",
       "      <td>0.003833</td>\n",
       "      <td>0.015079</td>\n",
       "      <td>-0.015079</td>\n",
       "      <td>-0.502596</td>\n",
       "      <td>1.000000</td>\n",
       "      <td>-0.503733</td>\n",
       "    </tr>\n",
       "    <tr>\n",
       "      <th>Contract_Two_year</th>\n",
       "      <td>0.046521</td>\n",
       "      <td>-0.076042</td>\n",
       "      <td>0.015316</td>\n",
       "      <td>0.017236</td>\n",
       "      <td>-0.020542</td>\n",
       "      <td>0.011917</td>\n",
       "      <td>-0.006496</td>\n",
       "      <td>0.006496</td>\n",
       "      <td>-0.493652</td>\n",
       "      <td>-0.503733</td>\n",
       "      <td>1.000000</td>\n",
       "    </tr>\n",
       "  </tbody>\n",
       "</table>\n",
       "</div>"
      ],
      "text/plain": [
       "                         CustomerID       Age    Tenure  MonthlyCharges  \\\n",
       "CustomerID                 1.000000 -0.008477  0.042854       -0.070124   \n",
       "Age                       -0.008477  1.000000  0.038315        0.000721   \n",
       "Tenure                     0.042854  0.038315  1.000000        0.019109   \n",
       "MonthlyCharges            -0.070124  0.000721  0.019109        1.000000   \n",
       "TotalCharges              -0.034867 -0.024992  0.031735       -0.003102   \n",
       "Churn                     -0.012028 -0.010366 -0.003566       -0.013454   \n",
       "Gender_Male                0.007041 -0.013059 -0.037422       -0.017919   \n",
       "Gender_Female             -0.007041  0.013059  0.037422        0.017919   \n",
       "Contract_Month-to-month   -0.019832  0.027620 -0.023990       -0.019481   \n",
       "Contract_One_year         -0.026546  0.048156  0.008604        0.002218   \n",
       "Contract_Two_year          0.046521 -0.076042  0.015316        0.017236   \n",
       "\n",
       "                         TotalCharges     Churn  Gender_Male  Gender_Female  \\\n",
       "CustomerID                  -0.034867 -0.012028     0.007041      -0.007041   \n",
       "Age                         -0.024992 -0.010366    -0.013059       0.013059   \n",
       "Tenure                       0.031735 -0.003566    -0.037422       0.037422   \n",
       "MonthlyCharges              -0.003102 -0.013454    -0.017919       0.017919   \n",
       "TotalCharges                 1.000000  0.007935     0.026089      -0.026089   \n",
       "Churn                        0.007935  1.000000    -0.030643       0.030643   \n",
       "Gender_Male                  0.026089 -0.030643     1.000000      -1.000000   \n",
       "Gender_Female               -0.026089  0.030643    -1.000000       1.000000   \n",
       "Contract_Month-to-month     -0.006415 -0.015785    -0.008679       0.008679   \n",
       "Contract_One_year            0.026793  0.003833     0.015079      -0.015079   \n",
       "Contract_Two_year           -0.020542  0.011917    -0.006496       0.006496   \n",
       "\n",
       "                         Contract_Month-to-month  Contract_One_year  \\\n",
       "CustomerID                             -0.019832          -0.026546   \n",
       "Age                                     0.027620           0.048156   \n",
       "Tenure                                 -0.023990           0.008604   \n",
       "MonthlyCharges                         -0.019481           0.002218   \n",
       "TotalCharges                           -0.006415           0.026793   \n",
       "Churn                                  -0.015785           0.003833   \n",
       "Gender_Male                            -0.008679           0.015079   \n",
       "Gender_Female                           0.008679          -0.015079   \n",
       "Contract_Month-to-month                 1.000000          -0.502596   \n",
       "Contract_One_year                      -0.502596           1.000000   \n",
       "Contract_Two_year                      -0.493652          -0.503733   \n",
       "\n",
       "                         Contract_Two_year  \n",
       "CustomerID                        0.046521  \n",
       "Age                              -0.076042  \n",
       "Tenure                            0.015316  \n",
       "MonthlyCharges                    0.017236  \n",
       "TotalCharges                     -0.020542  \n",
       "Churn                             0.011917  \n",
       "Gender_Male                      -0.006496  \n",
       "Gender_Female                     0.006496  \n",
       "Contract_Month-to-month          -0.493652  \n",
       "Contract_One_year                -0.503733  \n",
       "Contract_Two_year                 1.000000  "
      ]
     },
     "execution_count": 30,
     "metadata": {},
     "output_type": "execute_result"
    }
   ],
   "source": [
    "df.corr(numeric_only=True)"
   ]
  },
  {
   "cell_type": "code",
   "execution_count": 31,
   "metadata": {},
   "outputs": [
    {
     "data": {
      "text/plain": [
       "Contract_Month-to-month\n",
       "False    0.67\n",
       "True     0.33\n",
       "Name: proportion, dtype: float64"
      ]
     },
     "execution_count": 31,
     "metadata": {},
     "output_type": "execute_result"
    }
   ],
   "source": [
    "df.groupby('Churn').con"
   ]
  },
  {
   "cell_type": "code",
   "execution_count": 33,
   "metadata": {},
   "outputs": [
    {
     "data": {
      "text/plain": [
       "Text(0.5, 1.0, 'Non-Churned Customers by Contract Type (Churn = 0)')"
      ]
     },
     "execution_count": 33,
     "metadata": {},
     "output_type": "execute_result"
    },
    {
     "data": {
      "image/png": "[encoded data removed]",
      "text/plain": [
       "<Figure size 1400x700 with 2 Axes>"
      ]
     },
     "metadata": {},
     "output_type": "display_data"
    }
   ],
   "source": [
    "# Define label names for contract types\n",
    "contract_labels = {\n",
    "    (1, 0, 0): 'Month-to-Month',\n",
    "    (0, 1, 0): 'One Year',\n",
    "    (0, 0, 1): 'Two Year'\n",
    "}\n",
    "\n",
    "# Plot pie chart for churned customers by contract type\n",
    "plt.figure(figsize=(14, 7))\n",
    "plt.subplot(1, 2, 1)\n",
    "churned_data = df[df['Churn'] == 1].groupby(['Contract_Month-to-month', 'Contract_One_year', 'Contract_Two_year']).size()\n",
    "churned_data.index = churned_data.index.map(contract_labels)\n",
    "churned_data.plot(kind='pie', autopct='%1.1f%%', startangle=140)\n",
    "plt.title('Churned Customers by Contract Type (Churn = 1)')\n",
    "\n",
    "# Plot pie chart for non-churned customers by contract type\n",
    "plt.subplot(1, 2, 2)\n",
    "not_churned_data = df[df['Churn'] == 0].groupby(['Contract_Month-to-month', 'Contract_One_year', 'Contract_Two_year']).size()\n",
    "not_churned_data.index = not_churned_data.index.map(contract_labels)\n",
    "not_churned_data.plot(kind='pie', autopct='%1.1f%%', startangle=140)\n",
    "plt.title('Non-Churned Customers by Contract Type (Churn = 0)')\n"
   ]
  },
  {
   "cell_type": "code",
   "execution_count": 38,
   "metadata": {},
   "outputs": [],
   "source": [
    "from sklearn.tree import DecisionTreeClassifier\n",
    "from sklearn import tree\n",
    "from sklearn.model_selection import train_test_split\n",
    "from sklearn.metrics import accuracy_score\n",
    "# for vizualizing the tree\n",
    "import pydotplus\n",
    "from IPython.display import Image "
   ]
  },
  {
   "cell_type": "code",
   "execution_count": 39,
   "metadata": {},
   "outputs": [],
   "source": [
    "# Create decision tree classifer object\n",
    "tree_model = DecisionTreeClassifier(random_state=0,max_depth=5)\n",
    "X = df[['Age', 'Tenure', 'MonthlyCharges']]\n",
    "y = df.Churn\n",
    "X_train, X_test, y_train, y_test = train_test_split(X,y, test_size=0.2, random_state=99)"
   ]
  },
  {
   "cell_type": "code",
   "execution_count": 40,
   "metadata": {},
   "outputs": [
    {
     "data": {
      "text/html": [
       "<style>#sk-container-id-1 {color: black;background-color: white;}#sk-container-id-1 pre{padding: 0;}#sk-container-id-1 div.sk-toggleable {background-color: white;}#sk-container-id-1 label.sk-toggleable__label {cursor: pointer;display: block;width: 100%;margin-bottom: 0;padding: 0.3em;box-sizing: border-box;text-align: center;}#sk-container-id-1 label.sk-toggleable__label-arrow:before {content: \"▸\";float: left;margin-right: 0.25em;color: #696969;}#sk-container-id-1 label.sk-toggleable__label-arrow:hover:before {color: black;}#sk-container-id-1 div.sk-estimator:hover label.sk-toggleable__label-arrow:before {color: black;}#sk-container-id-1 div.sk-toggleable__content {max-height: 0;max-width: 0;overflow: hidden;text-align: left;background-color: #f0f8ff;}#sk-container-id-1 div.sk-toggleable__content pre {margin: 0.2em;color: black;border-radius: 0.25em;background-color: #f0f8ff;}#sk-container-id-1 input.sk-toggleable__control:checked~div.sk-toggleable__content {max-height: 200px;max-width: 100%;overflow: auto;}#sk-container-id-1 input.sk-toggleable__control:checked~label.sk-toggleable__label-arrow:before {content: \"▾\";}#sk-container-id-1 div.sk-estimator input.sk-toggleable__control:checked~label.sk-toggleable__label {background-color: #d4ebff;}#sk-container-id-1 div.sk-label input.sk-toggleable__control:checked~label.sk-toggleable__label {background-color: #d4ebff;}#sk-container-id-1 input.sk-hidden--visually {border: 0;clip: rect(1px 1px 1px 1px);clip: rect(1px, 1px, 1px, 1px);height: 1px;margin: -1px;overflow: hidden;padding: 0;position: absolute;width: 1px;}#sk-container-id-1 div.sk-estimator {font-family: monospace;background-color: #f0f8ff;border: 1px dotted black;border-radius: 0.25em;box-sizing: border-box;margin-bottom: 0.5em;}#sk-container-id-1 div.sk-estimator:hover {background-color: #d4ebff;}#sk-container-id-1 div.sk-parallel-item::after {content: \"\";width: 100%;border-bottom: 1px solid gray;flex-grow: 1;}#sk-container-id-1 div.sk-label:hover label.sk-toggleable__label {background-color: #d4ebff;}#sk-container-id-1 div.sk-serial::before {content: \"\";position: absolute;border-left: 1px solid gray;box-sizing: border-box;top: 0;bottom: 0;left: 50%;z-index: 0;}#sk-container-id-1 div.sk-serial {display: flex;flex-direction: column;align-items: center;background-color: white;padding-right: 0.2em;padding-left: 0.2em;position: relative;}#sk-container-id-1 div.sk-item {position: relative;z-index: 1;}#sk-container-id-1 div.sk-parallel {display: flex;align-items: stretch;justify-content: center;background-color: white;position: relative;}#sk-container-id-1 div.sk-item::before, #sk-container-id-1 div.sk-parallel-item::before {content: \"\";position: absolute;border-left: 1px solid gray;box-sizing: border-box;top: 0;bottom: 0;left: 50%;z-index: -1;}#sk-container-id-1 div.sk-parallel-item {display: flex;flex-direction: column;z-index: 1;position: relative;background-color: white;}#sk-container-id-1 div.sk-parallel-item:first-child::after {align-self: flex-end;width: 50%;}#sk-container-id-1 div.sk-parallel-item:last-child::after {align-self: flex-start;width: 50%;}#sk-container-id-1 div.sk-parallel-item:only-child::after {width: 0;}#sk-container-id-1 div.sk-dashed-wrapped {border: 1px dashed gray;margin: 0 0.4em 0.5em 0.4em;box-sizing: border-box;padding-bottom: 0.4em;background-color: white;}#sk-container-id-1 div.sk-label label {font-family: monospace;font-weight: bold;display: inline-block;line-height: 1.2em;}#sk-container-id-1 div.sk-label-container {text-align: center;}#sk-container-id-1 div.sk-container {/* jupyter's `normalize.less` sets `[hidden] { display: none; }` but bootstrap.min.css set `[hidden] { display: none !important; }` so we also need the `!important` here to be able to override the default hidden behavior on the sphinx rendered scikit-learn.org. See: https://github.com/scikit-learn/scikit-learn/issues/21755 */display: inline-block !important;position: relative;}#sk-container-id-1 div.sk-text-repr-fallback {display: none;}</style><div id=\"sk-container-id-1\" class=\"sk-top-container\"><div class=\"sk-text-repr-fallback\"><pre>DecisionTreeClassifier(max_depth=5, random_state=0)</pre><b>In a Jupyter environment, please rerun this cell to show the HTML representation or trust the notebook. <br />On GitHub, the HTML representation is unable to render, please try loading this page with nbviewer.org.</b></div><div class=\"sk-container\" hidden><div class=\"sk-item\"><div class=\"sk-estimator sk-toggleable\"><input class=\"sk-toggleable__control sk-hidden--visually\" id=\"sk-estimator-id-1\" type=\"checkbox\" checked><label for=\"sk-estimator-id-1\" class=\"sk-toggleable__label sk-toggleable__label-arrow\">DecisionTreeClassifier</label><div class=\"sk-toggleable__content\"><pre>DecisionTreeClassifier(max_depth=5, random_state=0)</pre></div></div></div></div></div>"
      ],
      "text/plain": [
       "DecisionTreeClassifier(max_depth=5, random_state=0)"
      ]
     },
     "execution_count": 40,
     "metadata": {},
     "output_type": "execute_result"
    }
   ],
   "source": [
    "# logistic regression model fit\n",
    "tree_model.fit(X_train,y_train)"
   ]
  },
  {
   "cell_type": "code",
   "execution_count": 41,
   "metadata": {},
   "outputs": [
    {
     "name": "stdout",
     "output_type": "stream",
     "text": [
      "[0 0 1 0 0 0 0 0 0 0 1 0 0 0 0 0 0 1 0 0 0 0 0 1 0 0 0 1 0 0 1 0 0 1 1 1 0\n",
      " 1 0 0 1 0 0 0 0 1 0 0 0 0 1 1 0 0 0 0 0 0 0 1 0 1 1 0 1 0 0 0 1 0 0 0 1 0\n",
      " 1 1 0 0 0 0 1 0 0 0 1 0 0 1 0 1 0 1 1 1 0 1 0 1 0 0 0 1 0 0 1 0 0 0 1 0 1\n",
      " 0 0 1 1 0 1 0 1 1 0 0 1 1 0 0 0 1 1 1 0 0 0 0 0 0 0 0 1 1 0 1 1 1 1 1 1 0\n",
      " 1 0 1 1 0 0 0 0 1 1 0 0 0 0 0 0 0 0 1 0 1 1 0 1 0 0 0 0 1 1 0 0 0 1 0 1 0\n",
      " 0 0 0 0 1 0 1 0 0 1 1 1 0 0 0]\n"
     ]
    },
    {
     "data": {
      "text/plain": [
       "0.59"
      ]
     },
     "execution_count": 41,
     "metadata": {},
     "output_type": "execute_result"
    }
   ],
   "source": [
    "# do prediction on test Data\n",
    "y_pred=tree_model.predict(X_test)\n",
    "print(y_pred)\n",
    "\n",
    "# Calculate score\n",
    "tree_model.score(X_test,y_test)"
   ]
  },
  {
   "cell_type": "code",
   "execution_count": 43,
   "metadata": {},
   "outputs": [
    {
     "name": "stdout",
     "output_type": "stream",
     "text": [
      "[1 1 1 1 1 1 1 0 1 1 0 1 1 0 1 1 1 1 0 1 1 1 1 1 1 1 1 1 0 0 1 0 1 0 0 0 1\n",
      " 1 1 1 0 1 1 1 0 0 1 1 0 0 0 1 1 0 1 1 0 1 1 1 0 1 1 1 1 0 0 0 1 0 1 1 0 1\n",
      " 1 1 1 0 1 0 1 0 1 1 1 0 1 1 0 0 1 0 0 1 1 1 0 1 0 1 1 1 0 0 1 0 1 1 0 0 1\n",
      " 1 1 0 0 1 1 1 1 1 1 1 1 1 0 1 1 0 1 1 0 1 0 1 0 1 1 0 1 0 0 1 0 1 1 1 1 0\n",
      " 1 1 1 1 0 1 1 1 0 1 1 1 0 0 0 1 0 1 1 1 0 0 1 0 1 0 1 0 1 0 1 1 1 1 1 0 1\n",
      " 0 0 1 1 1 1 0 0 0 1 0 1 1 0 1]\n"
     ]
    },
    {
     "data": {
      "text/plain": [
       "0.46"
      ]
     },
     "execution_count": 43,
     "metadata": {},
     "output_type": "execute_result"
    }
   ],
   "source": [
    "tree_model = DecisionTreeClassifier(random_state=0,max_depth=5)\n",
    "X = df[['Age', 'Tenure', 'Totalcharges']]\n",
    "y = df.Churn\n",
    "X_train, X_test, y_train, y_test = train_test_split(X,y, test_size=0.2, random_state=99)\n",
    "\n",
    "# logistic regression model fit\n",
    "tree_model.fit(X_train,y_train)\n",
    "\n",
    "# do prediction on test Data\n",
    "y_pred=tree_model.predict(X_test)\n",
    "print(y_pred)\n",
    "\n",
    "# Calculate score\n",
    "tree_model.score(X_test,y_test)"
   ]
  },
  {
   "cell_type": "code",
   "execution_count": 46,
   "metadata": {},
   "outputs": [
    {
     "name": "stdout",
     "output_type": "stream",
     "text": [
      "[0 0 1 0 0 0 0 0 0 0 1 0 0 0 0 0 0 1 0 0 0 0 0 1 0 0 0 1 0 0 1 0 0 1 1 1 0\n",
      " 1 0 0 1 0 0 0 0 1 0 0 0 0 1 1 0 0 0 0 0 0 0 1 0 1 1 0 1 0 0 0 1 0 0 0 1 0\n",
      " 1 1 0 0 0 0 1 0 0 0 1 0 0 1 0 1 0 1 1 1 0 1 0 1 0 0 0 1 0 0 1 0 0 0 1 0 1\n",
      " 0 0 1 0 0 1 0 1 1 0 0 1 1 0 0 0 1 1 1 0 0 0 0 0 0 0 0 1 1 0 1 1 1 1 1 1 0\n",
      " 1 0 1 1 0 0 0 0 1 1 0 0 0 0 0 0 0 0 1 0 1 1 0 1 0 0 0 0 1 1 0 0 0 1 0 1 0\n",
      " 0 0 0 0 1 0 1 0 0 1 1 0 0 0 0]\n"
     ]
    },
    {
     "data": {
      "text/plain": [
       "0.59"
      ]
     },
     "execution_count": 46,
     "metadata": {},
     "output_type": "execute_result"
    }
   ],
   "source": [
    "tree_model = DecisionTreeClassifier(random_state=0,max_depth=5)\n",
    "X = df[['Age', 'Tenure', 'MonthlyCharges', 'Contract_One_year']]\n",
    "y = df.Churn\n",
    "X_train, X_test, y_train, y_test = train_test_split(X,y, test_size=0.2, random_state=99)\n",
    "\n",
    "# logistic regression model fit\n",
    "tree_model.fit(X_train,y_train)\n",
    "\n",
    "# do prediction on test Data\n",
    "y_pred=tree_model.predict(X_test)\n",
    "print(y_pred)\n",
    "\n",
    "# Calculate score\n",
    "tree_model.score(X_test,y_test)"
   ]
  },
  {
   "cell_type": "code",
   "execution_count": 49,
   "metadata": {},
   "outputs": [
    {
     "name": "stdout",
     "output_type": "stream",
     "text": [
      "[0 0 1 0 0 0 0 0 0 0 1 0 0 0 0 0 0 1 0 0 0 0 0 1 0 0 0 1 0 0 1 0 0 1 1 1 0\n",
      " 1 0 0 1 0 0 0 0 1 0 0 0 0 1 1 0 0 0 0 0 0 0 1 0 1 1 0 1 0 0 0 1 0 0 0 1 0\n",
      " 1 1 0 0 0 0 1 0 0 0 1 0 0 1 0 1 0 1 1 1 0 1 0 1 0 0 0 1 0 0 1 0 0 0 1 0 1\n",
      " 0 0 1 0 0 1 0 1 1 0 0 1 1 0 0 0 1 1 1 0 0 0 0 0 0 0 0 1 1 0 1 1 1 1 1 1 0\n",
      " 1 0 1 1 0 0 0 0 1 1 0 0 0 0 0 0 0 0 1 0 1 1 0 1 0 0 0 0 1 1 0 0 0 1 0 1 0\n",
      " 0 0 0 0 1 0 1 0 0 1 1 0 0 0 0]\n"
     ]
    },
    {
     "data": {
      "text/plain": [
       "0.59"
      ]
     },
     "execution_count": 49,
     "metadata": {},
     "output_type": "execute_result"
    }
   ],
   "source": [
    "tree_model = DecisionTreeClassifier(random_state=0,max_depth=5)\n",
    "X = df[['Age', 'Tenure', 'MonthlyCharges', 'Contract_One_year', 'Gender_Male']]\n",
    "y = df.Churn\n",
    "X_train, X_test, y_train, y_test = train_test_split(X,y, test_size=0.2, random_state=99)\n",
    "\n",
    "# logistic regression model fit\n",
    "tree_model.fit(X_train,y_train)\n",
    "\n",
    "# do prediction on test Data\n",
    "y_pred=tree_model.predict(X_test)\n",
    "print(y_pred)\n",
    "\n",
    "# Calculate score\n",
    "tree_model.score(X_test,y_test)"
   ]
  }
 ],
 "metadata": {
  "kernelspec": {
   "display_name": "Python 3",
   "language": "python",
   "name": "python3"
  },
  "language_info": {
   "codemirror_mode": {
    "name": "ipython",
    "version": 3
   },
   "file_extension": ".py",
   "mimetype": "text/x-python",
   "name": "python",
   "nbconvert_exporter": "python",
   "pygments_lexer": "ipython3",
   "version": "3.11.7"
  }
 },
 "nbformat": 4,
 "nbformat_minor": 2
}
